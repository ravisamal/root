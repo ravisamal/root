{
 "cells": [
  {
   "cell_type": "markdown",
   "metadata": {},
   "source": [
    "The model and layers are imported and the input size of the the example \n",
    "is mentioned and then it is train on the CNN model defined below"
   ]
  },
  {
   "cell_type": "code",
   "execution_count": 169,
   "metadata": {},
   "outputs": [],
   "source": [
    "from keras import Input, layers, models\n",
    "input_tensor = Input(shape=(28,28,1))\n",
    "dense = layers.Dense(32, activation='relu')\n",
    "output_tensor = dense(input_tensor)"
   ]
  },
  {
   "cell_type": "markdown",
   "metadata": {},
   "source": [
    "the below is the implementation of the model code.\n",
    "layers.Conv2D is used to add a convolution layer\n",
    "layers.MaxPooling2D is used to add a max pooling layer.\n",
    "layers.Dropout is used to add a dropout"
   ]
  },
  {
   "cell_type": "code",
   "execution_count": 172,
   "metadata": {},
   "outputs": [],
   "source": [
    "x = layers.Conv2D(filters=128, kernel_size=(2, 2), strides = (1, 1), padding = 'same')(input_tensor)\n",
    "x = layers.MaxPooling2D(pool_size=2, strides=(1,1))(x)\n",
    "x = layers.Conv2D(filters=128, kernel_size=(2, 2), strides = (1, 1), padding = 'same')(x)\n",
    "x = layers.MaxPooling2D(pool_size=2, strides=(1,1))(x)\n",
    "x=layers.Dropout(0.5)(x)\n",
    "\n",
    "x = layers.Conv2D(filters=128, kernel_size=(2, 2), strides = (1, 1), padding = 'same')(x)\n",
    "x = layers.MaxPooling2D(pool_size=2, strides=(1,1))(x)\n",
    "x=layers.Dropout(0.5)(x)\n",
    "\n",
    "\n",
    "x = layers.Conv2D(filters=128, kernel_size=(2, 2), strides = (1, 1), padding = 'same')(x)\n",
    "x = layers.MaxPooling2D(pool_size=2, strides=(1,1))(x)\n",
    "\n",
    "x=layers.Dropout(0.5)(x)\n",
    "\n",
    "x = layers.Conv2D(filters=128, kernel_size=(2, 2), strides = (1, 1), padding = 'same')(x)\n",
    "x = layers.MaxPooling2D(pool_size=2, strides=(1,1))(x)\n",
    "\n",
    "x = layers.Conv2D(filters=128, kernel_size=(2, 2), strides = (1, 1), padding = 'same')(x)\n",
    "x = layers.MaxPooling2D(pool_size=2, strides=(1,1))(x)\n",
    "x=layers.Dropout(0.5)(x)\n",
    "\n",
    "\n",
    "\n",
    "x = layers.Conv2D(filters=128, kernel_size=(2, 2), strides = (1, 1), padding = 'same')(input_tensor)\n",
    "x = layers.MaxPooling2D(pool_size=2, strides=(1,1))(x)\n",
    "x = layers.Conv2D(filters=4, kernel_size=(2, 2), strides = (1, 1), padding = 'same')(x)\n",
    "x = layers.MaxPooling2D(pool_size=2, strides=(1,1))(x)\n",
    "\n",
    "x=layers.Dropout(0.5)(x)\n",
    "\n",
    "x = layers.Conv2D(filters=128, kernel_size=(2, 2), strides = (1, 1), padding = 'same')(x)\n",
    "x = layers.MaxPooling2D(pool_size=2, strides=(1,1))(x)\n",
    "\n",
    "x = layers.Conv2D(filters=128, kernel_size=(2, 2), strides = (1, 1), padding = 'same')(x)\n",
    "x = layers.MaxPooling2D(pool_size=2, strides=(1,1))(x)\n",
    "\n",
    "x = layers.Conv2D(filters=128, kernel_size=(2, 2), strides = (1, 1), padding = 'same')(x)\n",
    "x = layers.MaxPooling2D(pool_size=2, strides=(1,1))(x)\n",
    "\n",
    "x = layers.Conv2D(filters=128, kernel_size=(2, 2), strides = (1, 1), padding = 'same')(input_tensor)\n",
    "x = layers.MaxPooling2D(pool_size=2, strides=(1,1))(x)\n",
    "x = layers.Conv2D(filters=128, kernel_size=(2, 2), strides = (1, 1), padding = 'same')(x)\n",
    "x = layers.MaxPooling2D(pool_size=2, strides=(1,1))(x)\n",
    "\n",
    "x = layers.Conv2D(filters=128, kernel_size=(2, 2), strides = (1, 1), padding = 'same')(x)\n",
    "x = layers.MaxPooling2D(pool_size=2, strides=(1,1))(x)\n",
    "\n",
    "x = layers.Conv2D(filters=128, kernel_size=(2, 2), strides = (1, 1), padding = 'same')(x)\n",
    "x = layers.MaxPooling2D(pool_size=2, strides=(1,1))(x)\n",
    "\n",
    "x = layers.Conv2D(filters=128, kernel_size=(2, 2), strides = (1, 1), padding = 'same')(x)\n",
    "x = layers.MaxPooling2D(pool_size=2, strides=(1,1))(x)\n",
    "\n",
    "x=layers.Dropout(0.5)(x)\n",
    "\n",
    "x = layers.Conv2D(filters=128, kernel_size=(2, 2), strides = (1, 1), padding = 'same')(x)\n",
    "x = layers.MaxPooling2D(pool_size=2, strides=(1,1))(x)\n",
    "\n",
    "x = layers.Conv2D(filters=128, kernel_size=(2, 2), strides = (1, 1), padding = 'same')(input_tensor)\n",
    "x = layers.MaxPooling2D(pool_size=2, strides=(1,1))(x)\n",
    "x = layers.Conv2D(filters=4, kernel_size=(2, 2), strides = (1, 1), padding = 'same')(x)\n",
    "x = layers.MaxPooling2D(pool_size=2, strides=(1,1))(x)\n",
    "\n",
    "x=layers.Dropout(0.5)(x)\n",
    "\n",
    "x = layers.Conv2D(filters=128, kernel_size=(2, 2), strides = (1, 1), padding = 'same')(x)\n",
    "x = layers.MaxPooling2D(pool_size=2, strides=(1,1))(x)\n",
    "\n",
    "x = layers.Conv2D(filters=128, kernel_size=(2, 2), strides = (1, 1), padding = 'same')(x)\n",
    "x = layers.MaxPooling2D(pool_size=2, strides=(1,1))(x)\n",
    "\n",
    "x = layers.Conv2D(filters=128, kernel_size=(2, 2), strides = (1, 1), padding = 'same')(x)\n",
    "x = layers.MaxPooling2D(pool_size=2, strides=(1,1))(x)\n",
    "\n",
    "x=layers.Flatten()(x)\n",
    "x = layers.Dense(10, activation='relu')(x)\n",
    "output = layers.Dense(1, activation='relu')(x)\n",
    "\n",
    "model = Model(inputs=input_tensor, outputs=output)\n",
    "model.compile(optimizer='rmsprop',loss='mean_squared_error',metrics=['accuracy'])"
   ]
  },
  {
   "cell_type": "markdown",
   "metadata": {},
   "source": [
    "the dataset is loaded and the model is trained in it "
   ]
  },
  {
   "cell_type": "code",
   "execution_count": 173,
   "metadata": {},
   "outputs": [],
   "source": [
    "import numpy as np\n",
    "label = pd.read_pickle(r\"C:/Users/ravit/Downloads/Compressed/train_label.pkl\")\n",
    "data_train = pd.read_pickle(r\"C:/Users/ravit/Downloads/Compressed/train_image.pkl\")\n",
    "data_train=np.reshape(data_train,(8000,28,28,1))\n",
    "label=np.reshape(label,(8000,1))"
   ]
  },
  {
   "cell_type": "code",
   "execution_count": 174,
   "metadata": {},
   "outputs": [
    {
     "data": {
      "text/plain": [
       "(8000, 28, 28, 1)"
      ]
     },
     "execution_count": 174,
     "metadata": {},
     "output_type": "execute_result"
    }
   ],
   "source": [
    "data_train.shape"
   ]
  },
  {
   "cell_type": "code",
   "execution_count": 176,
   "metadata": {},
   "outputs": [
    {
     "name": "stdout",
     "output_type": "stream",
     "text": [
      "Epoch 1/4\n",
      "8000/8000 [==============================] - 91s 11ms/step - loss: 12.2500 - acc: 0.2500\n",
      "Epoch 2/4\n",
      "8000/8000 [==============================] - 92s 11ms/step - loss: 12.2500 - acc: 0.2500\n",
      "Epoch 3/4\n",
      "8000/8000 [==============================] - 93s 12ms/step - loss: 12.2500 - acc: 0.2500\n",
      "Epoch 4/4\n",
      "8000/8000 [==============================] - 93s 12ms/step - loss: 12.2500 - acc: 0.2500\n"
     ]
    },
    {
     "data": {
      "text/plain": [
       "<keras.callbacks.History at 0x2381de6c4e0>"
      ]
     },
     "execution_count": 176,
     "metadata": {},
     "output_type": "execute_result"
    }
   ],
   "source": [
    "model.fit(data_train, label,epochs=4)"
   ]
  },
  {
   "cell_type": "markdown",
   "metadata": {},
   "source": [
    "here is the model summary"
   ]
  },
  {
   "cell_type": "code",
   "execution_count": 177,
   "metadata": {},
   "outputs": [
    {
     "name": "stdout",
     "output_type": "stream",
     "text": [
      "_________________________________________________________________\n",
      "Layer (type)                 Output Shape              Param #   \n",
      "=================================================================\n",
      "input_19 (InputLayer)        (None, 28, 28, 1)         0         \n",
      "_________________________________________________________________\n",
      "conv2d_471 (Conv2D)          (None, 28, 28, 128)       640       \n",
      "_________________________________________________________________\n",
      "max_pooling2d_175 (MaxPoolin (None, 27, 27, 128)       0         \n",
      "_________________________________________________________________\n",
      "conv2d_472 (Conv2D)          (None, 27, 27, 4)         2052      \n",
      "_________________________________________________________________\n",
      "max_pooling2d_176 (MaxPoolin (None, 26, 26, 4)         0         \n",
      "_________________________________________________________________\n",
      "dropout_7 (Dropout)          (None, 26, 26, 4)         0         \n",
      "_________________________________________________________________\n",
      "conv2d_473 (Conv2D)          (None, 26, 26, 128)       2176      \n",
      "_________________________________________________________________\n",
      "max_pooling2d_177 (MaxPoolin (None, 25, 25, 128)       0         \n",
      "_________________________________________________________________\n",
      "conv2d_474 (Conv2D)          (None, 25, 25, 128)       65664     \n",
      "_________________________________________________________________\n",
      "max_pooling2d_178 (MaxPoolin (None, 24, 24, 128)       0         \n",
      "_________________________________________________________________\n",
      "conv2d_475 (Conv2D)          (None, 24, 24, 128)       65664     \n",
      "_________________________________________________________________\n",
      "max_pooling2d_179 (MaxPoolin (None, 23, 23, 128)       0         \n",
      "_________________________________________________________________\n",
      "flatten_12 (Flatten)         (None, 67712)             0         \n",
      "_________________________________________________________________\n",
      "dense_55 (Dense)             (None, 10)                677130    \n",
      "_________________________________________________________________\n",
      "dense_56 (Dense)             (None, 1)                 11        \n",
      "=================================================================\n",
      "Total params: 813,337\n",
      "Trainable params: 813,337\n",
      "Non-trainable params: 0\n",
      "_________________________________________________________________\n"
     ]
    }
   ],
   "source": [
    "model.summary()"
   ]
  },
  {
   "cell_type": "code",
   "execution_count": null,
   "metadata": {},
   "outputs": [],
   "source": []
  }
 ],
 "metadata": {
  "kernelspec": {
   "display_name": "Python 3",
   "language": "python",
   "name": "python3"
  },
  "language_info": {
   "codemirror_mode": {
    "name": "ipython",
    "version": 3
   },
   "file_extension": ".py",
   "mimetype": "text/x-python",
   "name": "python",
   "nbconvert_exporter": "python",
   "pygments_lexer": "ipython3",
   "version": "3.6.1"
  }
 },
 "nbformat": 4,
 "nbformat_minor": 2
}
